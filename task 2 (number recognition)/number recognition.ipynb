{
 "cells": [
  {
   "cell_type": "code",
   "execution_count": 1,
   "id": "74e873f1",
   "metadata": {},
   "outputs": [
    {
     "name": "stdout",
     "output_type": "stream",
     "text": [
      "Epoch 1/5\n",
      "938/938 [==============================] - 21s 22ms/step - loss: 0.1714 - accuracy: 0.9487\n",
      "Epoch 2/5\n",
      "938/938 [==============================] - 26s 28ms/step - loss: 0.0495 - accuracy: 0.9848\n",
      "Epoch 3/5\n",
      "938/938 [==============================] - 26s 28ms/step - loss: 0.0349 - accuracy: 0.9890\n",
      "Epoch 4/5\n",
      "938/938 [==============================] - 27s 28ms/step - loss: 0.0284 - accuracy: 0.9910\n",
      "Epoch 5/5\n",
      "938/938 [==============================] - 26s 28ms/step - loss: 0.0218 - accuracy: 0.9931\n",
      "313/313 [==============================] - 3s 8ms/step - loss: 0.0319 - accuracy: 0.9903\n",
      "Test accuracy: 0.9902999997138977\n"
     ]
    }
   ],
   "source": [
    "import tensorflow as tf\n",
    "from tensorflow.keras import layers, models\n",
    "\n",
    "# Preprocessing of mnist dataset\n",
    "mnist = tf.keras.datasets.mnist\n",
    "(train_images, train_labels), (test_images, test_labels) = mnist.load_data()\n",
    "\n",
    "train_images, test_images = train_images / 255.0, test_images / 255.0\n",
    "\n",
    "# CNN architecture\n",
    "model = models.Sequential([\n",
    "    layers.Conv2D(32, (3, 3), activation='relu', input_shape=(28, 28, 1)),\n",
    "    layers.MaxPooling2D((2, 2)),\n",
    "    layers.Conv2D(64, (3, 3), activation='relu'),\n",
    "    layers.MaxPooling2D((2, 2)),\n",
    "    layers.Conv2D(64, (3, 3), activation='relu'),\n",
    "    layers.Flatten(),\n",
    "    layers.Dense(64, activation='relu'),\n",
    "    layers.Dense(10, activation='softmax')\n",
    "])\n",
    "\n",
    "# Compile the model\n",
    "model.compile(optimizer='adam',\n",
    "              loss='sparse_categorical_crossentropy',\n",
    "              metrics=['accuracy'])\n",
    "\n",
    "# Reshape the input data to have a single channel (for grayscale images)\n",
    "train_images = train_images.reshape((-1, 28, 28, 1))\n",
    "test_images = test_images.reshape((-1, 28, 28, 1))\n",
    "\n",
    "# Train the model\n",
    "model.fit(train_images, train_labels, epochs=5, batch_size=64)\n"
   ]
  },
  {
   "cell_type": "code",
   "execution_count": 2,
   "id": "0745c406",
   "metadata": {},
   "outputs": [
    {
     "name": "stdout",
     "output_type": "stream",
     "text": [
      "313/313 [==============================] - 2s 7ms/step\n",
      "Actual Labels: [7 2 1 ... 4 5 6]\n",
      "Predicted Labels: [7 2 1 ... 4 5 6]\n"
     ]
    }
   ],
   "source": [
    "# Reshape the test images to have a single channel (for grayscale images)\n",
    "test_images = test_images.reshape((-1, 28, 28, 1))\n",
    "\n",
    "# Make predictions\n",
    "predictions = model.predict(test_images)\n",
    "\n",
    "# Get the predicted labels (the index of the highest probability for each image)\n",
    "predicted_labels = predictions.argmax(axis=1)\n",
    "\n",
    "# Display the actual labels and the predicted labels\n",
    "print(\"Actual Labels:\", test_labels)\n",
    "print(\"Predicted Labels:\", predicted_labels)\n",
    "\n",
    "# Evaluate the model on the test set\n",
    "test_loss, test_accuracy = model.evaluate(test_images, test_labels)\n",
    "print(f'Test accuracy: {test_accuracy}')"
   ]
  },
  {
   "cell_type": "code",
   "execution_count": 3,
   "id": "1dccf88a",
   "metadata": {},
   "outputs": [
    {
     "name": "stdout",
     "output_type": "stream",
     "text": [
      "      Actual Labels  Predicted Labels\n",
      "0                 7                 7\n",
      "1                 2                 2\n",
      "2                 1                 1\n",
      "3                 0                 0\n",
      "4                 4                 4\n",
      "...             ...               ...\n",
      "9995              2                 2\n",
      "9996              3                 3\n",
      "9997              4                 4\n",
      "9998              5                 5\n",
      "9999              6                 6\n",
      "\n",
      "[10000 rows x 2 columns]\n"
     ]
    }
   ],
   "source": [
    "import pandas as pd\n",
    "\n",
    "# Assuming you already have 'test_labels' and 'predicted_labels' arrays from the previous code\n",
    "\n",
    "# Create a DataFrame with actual labels and predicted labels\n",
    "df = pd.DataFrame({'Actual Labels': test_labels, 'Predicted Labels': predicted_labels})\n",
    "\n",
    "# Display the DataFrame\n",
    "print(df)\n",
    "\n",
    "# Convert the DataFrame to a CSV file\n",
    "df.to_csv('predicted_labels.csv', index=False)\n"
   ]
  },
  {
   "cell_type": "code",
   "execution_count": 5,
   "id": "e9c0c221",
   "metadata": {},
   "outputs": [],
   "source": []
  },
  {
   "cell_type": "code",
   "execution_count": null,
   "id": "693467a7",
   "metadata": {},
   "outputs": [],
   "source": []
  }
 ],
 "metadata": {
  "kernelspec": {
   "display_name": "Python 3 (ipykernel)",
   "language": "python",
   "name": "python3"
  },
  "language_info": {
   "codemirror_mode": {
    "name": "ipython",
    "version": 3
   },
   "file_extension": ".py",
   "mimetype": "text/x-python",
   "name": "python",
   "nbconvert_exporter": "python",
   "pygments_lexer": "ipython3",
   "version": "3.11.1"
  }
 },
 "nbformat": 4,
 "nbformat_minor": 5
}
